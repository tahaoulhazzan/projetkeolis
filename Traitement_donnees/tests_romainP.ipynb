{
 "cells": [
  {
   "cell_type": "code",
   "execution_count": 1,
   "metadata": {},
   "outputs": [],
   "source": [
    "import pandas as pd\n"
   ]
  },
  {
   "cell_type": "code",
   "execution_count": 19,
   "metadata": {},
   "outputs": [],
   "source": [
    "import pandas as pd\n",
    "\n",
    "url = '../data/csv-theorique/'\n",
    "agency = pd.read_csv(url + 'agency.csv', sep=';')\n",
    "calendar = pd.read_csv(url + 'calendar.csv', sep=';')\n",
    "calendar_dates = pd.read_csv(url + 'calendar_dates.csv', sep=';')\n",
    "routes = pd.read_csv(url + 'routes.csv', sep=';')\n",
    "stop_times = pd.read_csv(url + 'stop_times.csv', sep=';')\n",
    "stops = pd.read_csv(url + 'stops.csv', sep=';')\n",
    "trips = pd.read_csv(url + 'trips.csv', sep=';')"
   ]
  },
  {
   "cell_type": "code",
   "execution_count": 20,
   "metadata": {},
   "outputs": [
    {
     "data": {
      "text/plain": [
       "<Axes: xlabel='stop_id'>"
      ]
     },
     "execution_count": 20,
     "metadata": {},
     "output_type": "execute_result"
    },
    {
     "data": {
      "image/png": "[encoded data removed]",
      "text/plain": [
       "<Figure size 640x480 with 1 Axes>"
      ]
     },
     "metadata": {},
     "output_type": "display_data"
    }
   ],
   "source": [
    "stop_times.groupby(\"stop_id\")[\"stop_id\"].size().sort_values(ascending=False).head(50).plot(kind=\"bar\")"
   ]
  },
  {
   "cell_type": "code",
   "execution_count": 31,
   "metadata": {},
   "outputs": [],
   "source": [
    "stop_times.arrival_time = pd.to_datetime(stop_times.arrival_time, format='%H:%M:%S')\n",
    "stop_times.departure_time = pd.to_datetime(stop_times.departure_time, format='%H:%M:%S')"
   ]
  },
  {
   "cell_type": "code",
   "execution_count": 69,
   "metadata": {},
   "outputs": [
    {
     "data": {
      "text/html": [
       "<div>\n",
       "<style scoped>\n",
       "    .dataframe tbody tr th:only-of-type {\n",
       "        vertical-align: middle;\n",
       "    }\n",
       "\n",
       "    .dataframe tbody tr th {\n",
       "        vertical-align: top;\n",
       "    }\n",
       "\n",
       "    .dataframe thead th {\n",
       "        text-align: right;\n",
       "    }\n",
       "</style>\n",
       "<table border=\"1\" class=\"dataframe\">\n",
       "  <thead>\n",
       "    <tr style=\"text-align: right;\">\n",
       "      <th></th>\n",
       "      <th>trip_id</th>\n",
       "      <th>arrival_time</th>\n",
       "      <th>departure_time</th>\n",
       "      <th>stop_id</th>\n",
       "      <th>stop_sequence</th>\n",
       "      <th>pickup_type</th>\n",
       "      <th>drop_off_type</th>\n",
       "      <th>route_id</th>\n",
       "      <th>service_id</th>\n",
       "      <th>direction_id</th>\n",
       "    </tr>\n",
       "  </thead>\n",
       "  <tbody>\n",
       "    <tr>\n",
       "      <th>0</th>\n",
       "      <td>0</td>\n",
       "      <td>1900-01-01 07:11:00</td>\n",
       "      <td>1900-01-01 07:11:00</td>\n",
       "      <td>12176</td>\n",
       "      <td>1</td>\n",
       "      <td>NaN</td>\n",
       "      <td>NaN</td>\n",
       "      <td>92</td>\n",
       "      <td>T23_RO-2-31</td>\n",
       "      <td>1</td>\n",
       "    </tr>\n",
       "    <tr>\n",
       "      <th>1</th>\n",
       "      <td>0</td>\n",
       "      <td>1900-01-01 07:13:00</td>\n",
       "      <td>1900-01-01 07:13:00</td>\n",
       "      <td>12175</td>\n",
       "      <td>2</td>\n",
       "      <td>NaN</td>\n",
       "      <td>NaN</td>\n",
       "      <td>92</td>\n",
       "      <td>T23_RO-2-31</td>\n",
       "      <td>1</td>\n",
       "    </tr>\n",
       "    <tr>\n",
       "      <th>2</th>\n",
       "      <td>0</td>\n",
       "      <td>1900-01-01 07:14:00</td>\n",
       "      <td>1900-01-01 07:14:00</td>\n",
       "      <td>11039</td>\n",
       "      <td>3</td>\n",
       "      <td>NaN</td>\n",
       "      <td>NaN</td>\n",
       "      <td>92</td>\n",
       "      <td>T23_RO-2-31</td>\n",
       "      <td>1</td>\n",
       "    </tr>\n",
       "    <tr>\n",
       "      <th>3</th>\n",
       "      <td>0</td>\n",
       "      <td>1900-01-01 07:15:00</td>\n",
       "      <td>1900-01-01 07:15:00</td>\n",
       "      <td>12173</td>\n",
       "      <td>4</td>\n",
       "      <td>NaN</td>\n",
       "      <td>NaN</td>\n",
       "      <td>92</td>\n",
       "      <td>T23_RO-2-31</td>\n",
       "      <td>1</td>\n",
       "    </tr>\n",
       "    <tr>\n",
       "      <th>4</th>\n",
       "      <td>0</td>\n",
       "      <td>1900-01-01 07:16:00</td>\n",
       "      <td>1900-01-01 07:16:00</td>\n",
       "      <td>11347</td>\n",
       "      <td>5</td>\n",
       "      <td>NaN</td>\n",
       "      <td>NaN</td>\n",
       "      <td>92</td>\n",
       "      <td>T23_RO-2-31</td>\n",
       "      <td>1</td>\n",
       "    </tr>\n",
       "    <tr>\n",
       "      <th>...</th>\n",
       "      <td>...</td>\n",
       "      <td>...</td>\n",
       "      <td>...</td>\n",
       "      <td>...</td>\n",
       "      <td>...</td>\n",
       "      <td>...</td>\n",
       "      <td>...</td>\n",
       "      <td>...</td>\n",
       "      <td>...</td>\n",
       "      <td>...</td>\n",
       "    </tr>\n",
       "    <tr>\n",
       "      <th>484191</th>\n",
       "      <td>9998</td>\n",
       "      <td>1900-01-01 18:18:00</td>\n",
       "      <td>1900-01-01 18:18:00</td>\n",
       "      <td>4104</td>\n",
       "      <td>4</td>\n",
       "      <td>NaN</td>\n",
       "      <td>NaN</td>\n",
       "      <td>402</td>\n",
       "      <td>ASCESC-2-127</td>\n",
       "      <td>0</td>\n",
       "    </tr>\n",
       "    <tr>\n",
       "      <th>484192</th>\n",
       "      <td>9999</td>\n",
       "      <td>1900-01-01 18:14:00</td>\n",
       "      <td>1900-01-01 18:14:00</td>\n",
       "      <td>4101</td>\n",
       "      <td>1</td>\n",
       "      <td>NaN</td>\n",
       "      <td>NaN</td>\n",
       "      <td>402</td>\n",
       "      <td>ASCESC-2-127</td>\n",
       "      <td>0</td>\n",
       "    </tr>\n",
       "    <tr>\n",
       "      <th>484193</th>\n",
       "      <td>9999</td>\n",
       "      <td>1900-01-01 18:15:00</td>\n",
       "      <td>1900-01-01 18:15:00</td>\n",
       "      <td>4102</td>\n",
       "      <td>2</td>\n",
       "      <td>NaN</td>\n",
       "      <td>NaN</td>\n",
       "      <td>402</td>\n",
       "      <td>ASCESC-2-127</td>\n",
       "      <td>0</td>\n",
       "    </tr>\n",
       "    <tr>\n",
       "      <th>484194</th>\n",
       "      <td>9999</td>\n",
       "      <td>1900-01-01 18:16:00</td>\n",
       "      <td>1900-01-01 18:16:00</td>\n",
       "      <td>4103</td>\n",
       "      <td>3</td>\n",
       "      <td>NaN</td>\n",
       "      <td>NaN</td>\n",
       "      <td>402</td>\n",
       "      <td>ASCESC-2-127</td>\n",
       "      <td>0</td>\n",
       "    </tr>\n",
       "    <tr>\n",
       "      <th>484195</th>\n",
       "      <td>9999</td>\n",
       "      <td>1900-01-01 18:19:00</td>\n",
       "      <td>1900-01-01 18:19:00</td>\n",
       "      <td>4104</td>\n",
       "      <td>4</td>\n",
       "      <td>NaN</td>\n",
       "      <td>NaN</td>\n",
       "      <td>402</td>\n",
       "      <td>ASCESC-2-127</td>\n",
       "      <td>0</td>\n",
       "    </tr>\n",
       "  </tbody>\n",
       "</table>\n",
       "<p>484196 rows × 10 columns</p>\n",
       "</div>"
      ],
      "text/plain": [
       "        trip_id        arrival_time      departure_time  stop_id  \\\n",
       "0             0 1900-01-01 07:11:00 1900-01-01 07:11:00    12176   \n",
       "1             0 1900-01-01 07:13:00 1900-01-01 07:13:00    12175   \n",
       "2             0 1900-01-01 07:14:00 1900-01-01 07:14:00    11039   \n",
       "3             0 1900-01-01 07:15:00 1900-01-01 07:15:00    12173   \n",
       "4             0 1900-01-01 07:16:00 1900-01-01 07:16:00    11347   \n",
       "...         ...                 ...                 ...      ...   \n",
       "484191     9998 1900-01-01 18:18:00 1900-01-01 18:18:00     4104   \n",
       "484192     9999 1900-01-01 18:14:00 1900-01-01 18:14:00     4101   \n",
       "484193     9999 1900-01-01 18:15:00 1900-01-01 18:15:00     4102   \n",
       "484194     9999 1900-01-01 18:16:00 1900-01-01 18:16:00     4103   \n",
       "484195     9999 1900-01-01 18:19:00 1900-01-01 18:19:00     4104   \n",
       "\n",
       "        stop_sequence  pickup_type  drop_off_type  route_id    service_id  \\\n",
       "0                   1          NaN            NaN        92   T23_RO-2-31   \n",
       "1                   2          NaN            NaN        92   T23_RO-2-31   \n",
       "2                   3          NaN            NaN        92   T23_RO-2-31   \n",
       "3                   4          NaN            NaN        92   T23_RO-2-31   \n",
       "4                   5          NaN            NaN        92   T23_RO-2-31   \n",
       "...               ...          ...            ...       ...           ...   \n",
       "484191              4          NaN            NaN       402  ASCESC-2-127   \n",
       "484192              1          NaN            NaN       402  ASCESC-2-127   \n",
       "484193              2          NaN            NaN       402  ASCESC-2-127   \n",
       "484194              3          NaN            NaN       402  ASCESC-2-127   \n",
       "484195              4          NaN            NaN       402  ASCESC-2-127   \n",
       "\n",
       "        direction_id  \n",
       "0                  1  \n",
       "1                  1  \n",
       "2                  1  \n",
       "3                  1  \n",
       "4                  1  \n",
       "...              ...  \n",
       "484191             0  \n",
       "484192             0  \n",
       "484193             0  \n",
       "484194             0  \n",
       "484195             0  \n",
       "\n",
       "[484196 rows x 10 columns]"
      ]
     },
     "execution_count": 69,
     "metadata": {},
     "output_type": "execute_result"
    }
   ],
   "source": [
    "df = pd.merge(stop_times, trips[['trip_id', 'route_id', 'service_id', 'direction_id']], on='trip_id')\n",
    "df"
   ]
  },
  {
   "cell_type": "code",
   "execution_count": 85,
   "metadata": {},
   "outputs": [
    {
     "data": {
      "text/plain": [
       "<Axes: xlabel='trip_id', ylabel='departure_time'>"
      ]
     },
     "execution_count": 85,
     "metadata": {},
     "output_type": "execute_result"
    },
    {
     "data": {
      "image/png": "[encoded data removed]",
      "text/plain": [
       "<Figure size 640x480 with 1 Axes>"
      ]
     },
     "metadata": {},
     "output_type": "display_data"
    }
   ],
   "source": [
    "\n",
    "\n",
    "route = 14\n",
    "service = \"IST_M1-2-32\"\n",
    "\n",
    "df[(df.route_id == route) & (df.service_id == service) & (df.stop_sequence == 1) & (df.direction_id == 0)].sort_values(by='trip_id').plot(x='trip_id', y='departure_time', kind='scatter')"
   ]
  }
 ],
 "metadata": {
  "kernelspec": {
   "display_name": "Python 3",
   "language": "python",
   "name": "python3"
  },
  "language_info": {
   "codemirror_mode": {
    "name": "ipython",
    "version": 3
   },
   "file_extension": ".py",
   "mimetype": "text/x-python",
   "name": "python",
   "nbconvert_exporter": "python",
   "pygments_lexer": "ipython3",
   "version": "3.11.4"
  }
 },
 "nbformat": 4,
 "nbformat_minor": 2
}
